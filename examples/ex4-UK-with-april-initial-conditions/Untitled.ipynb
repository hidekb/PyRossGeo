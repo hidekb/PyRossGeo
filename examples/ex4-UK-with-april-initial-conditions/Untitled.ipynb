{
 "cells": [
  {
   "cell_type": "code",
   "execution_count": 1,
   "metadata": {},
   "outputs": [],
   "source": [
    "%%capture\n",
    "# Compile and import local pyrossgeo module\n",
    "import os, sys\n",
    "owd = os.getcwd()\n",
    "os.chdir('../../')\n",
    "sys.path.insert(0,'../../')\n",
    "!python setup.py build_ext --inplace\n",
    "os.chdir(owd)\n",
    "\n",
    "import numpy as np\n",
    "import matplotlib as mpl\n",
    "import matplotlib.pyplot as plt\n",
    "import pyrossgeo\n",
    "\n",
    "import pandas as pd\n",
    "import json"
   ]
  },
  {
   "cell_type": "code",
   "execution_count": 4,
   "metadata": {},
   "outputs": [],
   "source": [
    "cn = pd.read_csv(\"london_simulation/commuter_networks.csv\")\n",
    "\n",
    "# Fix column names\n",
    "\n",
    "cn = cn.rename(columns = {'N_move' : '# to move'})\n",
    "cn.insert(5, \"% to move\", -1)\n",
    "\n",
    "# Fix that 100% return home\n",
    "\n",
    "cn.loc[ cn['Home'] == cn['To'], '# to move'] = -1\n",
    "cn.loc[ cn['Home'] == cn['To'], '% to move'] = 1.0\n",
    "\n",
    "cn.head()\n",
    "\n",
    "# Remove commutes to same node\n",
    "\n",
    "cn = cn[ cn['From'] != cn['To'] ]\n",
    "\n",
    "cn = cn.reset_index()"
   ]
  },
  {
   "cell_type": "code",
   "execution_count": 21,
   "metadata": {},
   "outputs": [],
   "source": [
    "cn = pd.read_csv(\"london_simulation/commuter_networks.csv\")\n",
    "#cn2 = cn.drop(columns='index')\n",
    "cn['t2'] = cn['ct1']"
   ]
  },
  {
   "cell_type": "code",
   "execution_count": 28,
   "metadata": {},
   "outputs": [],
   "source": [
    "cn.to_csv('london_simulation/commuter_networks.csv', index=False)"
   ]
  },
  {
   "cell_type": "code",
   "execution_count": 11,
   "metadata": {},
   "outputs": [],
   "source": [
    "cn.loc[:, :'ct2'].to_csv('london_simulation/commuter_networks.csv', index=False)"
   ]
  },
  {
   "cell_type": "code",
   "execution_count": 3,
   "metadata": {},
   "outputs": [],
   "source": [
    "allow_class = [\n",
    "    ('S', True),\n",
    "    ('E', True),\n",
    "    ('A', True),\n",
    "    ('Ia1', True),\n",
    "    ('Ia2', True),\n",
    "    ('Ia3', True),\n",
    "    ('Is1', True),\n",
    "    ('Is2', False),\n",
    "    ('Is3', False),\n",
    "    ('R', True),\n",
    "]\n",
    "\n",
    "# Drop the current allow_O columns\n",
    "cn = cn.iloc[:,:10]\n",
    "\n",
    "# Set allow settings\n",
    "for O, allow_O in allow_class:\n",
    "    cn[ \"Allow %s\" % O ] = 1 if allow_O else 0\n",
    "    \n",
    "# Allow people to return home\n",
    "cn.loc[ cn['Home'] == cn['To'],\"Allow %s\" % allow_class[0][0]:] = 1"
   ]
  },
  {
   "cell_type": "code",
   "execution_count": 143,
   "metadata": {},
   "outputs": [],
   "source": [
    "min_num_moving = 20\n",
    "\n",
    "delete_rows = []\n",
    "\n",
    "for i, row in cn.loc[ cn['Home'] == cn['From'] ].iterrows():\n",
    "    if row['# to move'] < min_num_moving:\n",
    "        delete_rows.append(i)\n",
    "        delete_rows.append(i+1) # Delete the returning commuting edge as well\n",
    "        \n",
    "cn = cn.drop(delete_rows)"
   ]
  }
 ],
 "metadata": {
  "kernelspec": {
   "display_name": "Python 3",
   "language": "python",
   "name": "python3"
  },
  "language_info": {
   "codemirror_mode": {
    "name": "ipython",
    "version": 3
   },
   "file_extension": ".py",
   "mimetype": "text/x-python",
   "name": "python",
   "nbconvert_exporter": "python",
   "pygments_lexer": "ipython3",
   "version": "3.7.4"
  }
 },
 "nbformat": 4,
 "nbformat_minor": 4
}
